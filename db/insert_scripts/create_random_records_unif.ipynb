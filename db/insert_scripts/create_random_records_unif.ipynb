{
 "metadata": {
  "language_info": {
   "codemirror_mode": {
    "name": "ipython",
    "version": 3
   },
   "file_extension": ".py",
   "mimetype": "text/x-python",
   "name": "python",
   "nbconvert_exporter": "python",
   "pygments_lexer": "ipython3",
   "version": "3.7.6-final"
  },
  "orig_nbformat": 2,
  "kernelspec": {
   "name": "python3",
   "display_name": "Python 3",
   "language": "python"
  }
 },
 "nbformat": 4,
 "nbformat_minor": 2,
 "cells": [
  {
   "source": [
    "## Create random entries"
   ],
   "cell_type": "markdown",
   "metadata": {}
  },
  {
   "cell_type": "code",
   "execution_count": 15,
   "metadata": {},
   "outputs": [],
   "source": [
    "import math\n",
    "import random\n",
    "import string\n",
    "import pandas as pd\n",
    "from sqlalchemy import create_engine\n",
    "import urllib"
   ]
  },
  {
   "cell_type": "code",
   "execution_count": 2,
   "metadata": {},
   "outputs": [],
   "source": [
    "# Table size\n",
    "size_customer = 500000\n",
    "size_deliverer = 4\n",
    "size_discount = 50\n",
    "size_category = 1000\n",
    "size_subcategory = 5000\n",
    "size_product = 100000\n",
    "size_order = 2000000\n",
    "size_order_details = 6000000"
   ]
  },
  {
   "cell_type": "code",
   "execution_count": 3,
   "metadata": {},
   "outputs": [
    {
     "output_type": "execute_result",
     "data": {
      "text/plain": [
       "'BdNcJQsokWcZqfwJZLcfwRTJdOttgC'"
      ]
     },
     "metadata": {},
     "execution_count": 3
    }
   ],
   "source": [
    "def random_string_generator(str_size, allowed_chars):\n",
    "    return ''.join(random.choice(allowed_chars) for x in range(str_size))\n",
    "random_string_generator(30, string.ascii_letters)"
   ]
  },
  {
   "cell_type": "code",
   "execution_count": 4,
   "metadata": {},
   "outputs": [],
   "source": [
    "# Customer table\n",
    "random.seed(1)\n",
    "customer_lst = [[k,random_string_generator(30, string.ascii_letters)] for k in range(1,size_customer + 1)]\n",
    "customer_df = pd.DataFrame(customer_lst, columns = ['id', 'name']) "
   ]
  },
  {
   "cell_type": "code",
   "execution_count": 5,
   "metadata": {},
   "outputs": [],
   "source": [
    "# deliverer table\n",
    "random.seed(5)\n",
    "deliverer_lst = [['1','DHL'],['2','IPS'],['3','FEDEX'],['4','UPS']]\n",
    "deliverer_df = pd.DataFrame(deliverer_lst, columns = ['id', 'name']) "
   ]
  },
  {
   "cell_type": "code",
   "execution_count": 6,
   "metadata": {},
   "outputs": [],
   "source": [
    "# discount table\n",
    "random.seed(100)\n",
    "discount_lst = [[k, random_string_generator(30, string.ascii_letters), random.uniform(0, 1)] for k in range(1,size_discount + 1)]\n",
    "discount_df = pd.DataFrame(discount_lst, columns = ['id', 'code','discount']) "
   ]
  },
  {
   "cell_type": "code",
   "execution_count": 7,
   "metadata": {},
   "outputs": [],
   "source": [
    "# category table\n",
    "random.seed(1000)\n",
    "category_lst = [[k,random_string_generator(30, string.ascii_letters)] for k in range(1, size_category + 1)]\n",
    "category_df = pd.DataFrame(category_lst, columns = ['id', 'category_name'])"
   ]
  },
  {
   "cell_type": "code",
   "execution_count": 8,
   "metadata": {},
   "outputs": [],
   "source": [
    "# subcategory table\n",
    "random.seed(12)\n",
    "subcategory_lst = [[k,random_string_generator(30, string.ascii_letters), random.randint(1, size_category) ] for k in range(1, size_subcategory + 1)]\n",
    "subcategory_df = pd.DataFrame(subcategory_lst, columns = ['id', 'subcategory_name', 'category_id'])"
   ]
  },
  {
   "cell_type": "code",
   "execution_count": 9,
   "metadata": {},
   "outputs": [],
   "source": [
    "# order table\n",
    "random.seed(15)\n",
    "order_lst = [[k ,\n",
    "              random.randint(1, size_customer),\n",
    "              random.uniform(0, 1) * 1480 + 20,\n",
    "              random.randint(1, size_deliverer),\n",
    "              random.randint(1, size_discount) ] for k in range(1, size_order + 1)]\n",
    "order_df = pd.DataFrame(order_lst, columns = ['id', 'customer_id', 'amount', 'deliverer_id', 'discount_id'])"
   ]
  },
  {
   "cell_type": "code",
   "execution_count": 11,
   "metadata": {},
   "outputs": [],
   "source": [
    "# product table\n",
    "random.seed(117)\n",
    "product_lst = [[k ,\n",
    "              random_string_generator(30, string.ascii_letters),\n",
    "              math.floor(random.uniform(0, 1) * 480 + 20),\n",
    "              random.randint(1, size_subcategory) ] for k in range(1, size_product + 1)]\n",
    "product_df = pd.DataFrame(product_lst, columns = ['id', 'name', 'price', 'subcategory_id'])"
   ]
  },
  {
   "cell_type": "code",
   "execution_count": 12,
   "metadata": {},
   "outputs": [],
   "source": [
    "# order_details table\n",
    "random.seed(199)\n",
    "order_details_lst = [[k ,\n",
    "              random.randint(1, size_order),\n",
    "              random.randint(1, size_product),\n",
    "              math.floor(random.uniform(0, 1) * 480 + 20),\n",
    "              random.randint(1, 20)] for k in range(1, size_order_details + 1)]\n",
    "order_details_df = pd.DataFrame(order_details_lst, columns = ['id', 'order_id', 'product_id', 'price', 'quantity'])"
   ]
  },
  {
   "source": [
    "## Save data to SQL Server"
   ],
   "cell_type": "markdown",
   "metadata": {}
  },
  {
   "cell_type": "code",
   "execution_count": 16,
   "metadata": {},
   "outputs": [],
   "source": [
    "SERVERNAME = 'mssqlbench.cloudlab.zhaw.ch'\n",
    "SERVER = 'MSSQLBENCH'\n",
    "DATABASE = 'random_database_small'\n",
    "\n",
    "params_log = urllib.parse.quote_plus(r'DRIVER={ODBC Driver 13 for SQL Server};SERVER=MSSQLBENCH;DATABASE=random_database_small;Trusted_Connection=yes')\n",
    "conn_sql_server = 'mssql+pyodbc:///?odbc_connect={}'.format(params_log)\n",
    "engine = create_engine(conn_sql_server, fast_executemany = True)"
   ]
  },
  {
   "cell_type": "code",
   "execution_count": 58,
   "metadata": {},
   "outputs": [
    {
     "output_type": "error",
     "ename": "NameError",
     "evalue": "name 'engine' is not defined",
     "traceback": [
      "\u001b[1;31m---------------------------------------------------------------------------\u001b[0m",
      "\u001b[1;31mNameError\u001b[0m                                 Traceback (most recent call last)",
      "\u001b[1;32m<ipython-input-58-21be0224a7ba>\u001b[0m in \u001b[0;36m<module>\u001b[1;34m\u001b[0m\n\u001b[1;32m----> 1\u001b[1;33m \u001b[0mcustomer_df\u001b[0m\u001b[1;33m.\u001b[0m\u001b[0mto_sql\u001b[0m\u001b[1;33m(\u001b[0m\u001b[1;34m\"customer\"\u001b[0m\u001b[1;33m,\u001b[0m \u001b[0mcon\u001b[0m \u001b[1;33m=\u001b[0m \u001b[0mengine\u001b[0m\u001b[1;33m,\u001b[0m \u001b[0mschema\u001b[0m\u001b[1;33m=\u001b[0m \u001b[1;34m'dbo'\u001b[0m\u001b[1;33m,\u001b[0m \u001b[0mif_exists\u001b[0m\u001b[1;33m=\u001b[0m \u001b[1;34m'append'\u001b[0m\u001b[1;33m,\u001b[0m \u001b[0mindex\u001b[0m \u001b[1;33m=\u001b[0m \u001b[1;32mFalse\u001b[0m\u001b[1;33m)\u001b[0m\u001b[1;33m\u001b[0m\u001b[1;33m\u001b[0m\u001b[0m\n\u001b[0m\u001b[0;32m      2\u001b[0m \u001b[0mcustomer_df\u001b[0m\u001b[1;33m.\u001b[0m\u001b[0mto_sql\u001b[0m\u001b[1;33m(\u001b[0m\u001b[1;34m\"customer\"\u001b[0m\u001b[1;33m,\u001b[0m \u001b[0mcon\u001b[0m \u001b[1;33m=\u001b[0m \u001b[0mengine\u001b[0m\u001b[1;33m,\u001b[0m \u001b[0mschema\u001b[0m\u001b[1;33m=\u001b[0m \u001b[1;34m'dbo'\u001b[0m\u001b[1;33m,\u001b[0m \u001b[0mif_exists\u001b[0m\u001b[1;33m=\u001b[0m \u001b[1;34m'append'\u001b[0m\u001b[1;33m,\u001b[0m \u001b[0mindex\u001b[0m \u001b[1;33m=\u001b[0m \u001b[1;32mFalse\u001b[0m\u001b[1;33m)\u001b[0m\u001b[1;33m\u001b[0m\u001b[1;33m\u001b[0m\u001b[0m\n\u001b[0;32m      3\u001b[0m \u001b[0mcustomer_df\u001b[0m\u001b[1;33m.\u001b[0m\u001b[0mto_sql\u001b[0m\u001b[1;33m(\u001b[0m\u001b[1;34m\"customer\"\u001b[0m\u001b[1;33m,\u001b[0m \u001b[0mcon\u001b[0m \u001b[1;33m=\u001b[0m \u001b[0mengine\u001b[0m\u001b[1;33m,\u001b[0m \u001b[0mschema\u001b[0m\u001b[1;33m=\u001b[0m \u001b[1;34m'dbo'\u001b[0m\u001b[1;33m,\u001b[0m \u001b[0mif_exists\u001b[0m\u001b[1;33m=\u001b[0m \u001b[1;34m'append'\u001b[0m\u001b[1;33m,\u001b[0m \u001b[0mindex\u001b[0m \u001b[1;33m=\u001b[0m \u001b[1;32mFalse\u001b[0m\u001b[1;33m)\u001b[0m\u001b[1;33m\u001b[0m\u001b[1;33m\u001b[0m\u001b[0m\n\u001b[0;32m      4\u001b[0m \u001b[0mcustomer_df\u001b[0m\u001b[1;33m.\u001b[0m\u001b[0mto_sql\u001b[0m\u001b[1;33m(\u001b[0m\u001b[1;34m\"customer\"\u001b[0m\u001b[1;33m,\u001b[0m \u001b[0mcon\u001b[0m \u001b[1;33m=\u001b[0m \u001b[0mengine\u001b[0m\u001b[1;33m,\u001b[0m \u001b[0mschema\u001b[0m\u001b[1;33m=\u001b[0m \u001b[1;34m'dbo'\u001b[0m\u001b[1;33m,\u001b[0m \u001b[0mif_exists\u001b[0m\u001b[1;33m=\u001b[0m \u001b[1;34m'append'\u001b[0m\u001b[1;33m,\u001b[0m \u001b[0mindex\u001b[0m \u001b[1;33m=\u001b[0m \u001b[1;32mFalse\u001b[0m\u001b[1;33m)\u001b[0m\u001b[1;33m\u001b[0m\u001b[1;33m\u001b[0m\u001b[0m\n",
      "\u001b[1;31mNameError\u001b[0m: name 'engine' is not defined"
     ]
    }
   ],
   "source": [
    "customer_df.to_sql(\"customer\", con = engine, schema= 'dbo', if_exists= 'append', index = False)\n",
    "deliverer_df.to_sql(\"deliverer\", con = engine, schema= 'dbo', if_exists= 'append', index = False)\n",
    "discount_df.to_sql(\"discount\", con = engine, schema= 'dbo', if_exists= 'append', index = False)\n",
    "category_df.to_sql(\"category\", con = engine, schema= 'dbo', if_exists= 'append', index = False)\n",
    "subcategory_df.to_sql(\"subcategory\", con = engine, schema= 'dbo', if_exists= 'append', index = False)\n",
    "order_df.to_sql(\"order\", con = engine, schema= 'dbo', if_exists= 'append', index = False)\n",
    "product_df.to_sql(\"product\", con = engine, schema= 'dbo', if_exists= 'append', index = False)\n",
    "order_details_df.to_sql(\"order_details\", con = engine, schema= 'dbo', if_exists= 'append', index = False)"
   ]
  }
 ]
}